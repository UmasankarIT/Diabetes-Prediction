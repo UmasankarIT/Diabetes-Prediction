{
 "cells": [
  {
   "cell_type": "code",
   "execution_count": null,
   "id": "5567e9aa",
   "metadata": {},
   "outputs": [],
   "source": [
    "import pandas as pd\n",
    "import numpy as np\n",
    "from imblearn.pipeline import Pipeline\n",
    "from lightgbm import LGBMClassifier\n",
    "from imblearn.over_sampling import SMOTE\n",
    "from sklearn.preprocessing import StandardScaler\n",
    "from sklearn.model_selection import train_test_split, GridSearchCV\n",
    "from sklearn.metrics import accuracy_score, confusion_matrix, classification_report\n",
    "\n",
    "# Load dataset (replace with your path)\n",
    "df = pd.read_csv('https://github.com/YBIFoundation/Dataset/raw/main/Diabetes.csv')\n",
    "\n",
    "# Prepare features and target\n",
    "X = df.drop('diabetes', axis=1)\n",
    "y = df['diabetes']\n",
    "\n",
    "# Train-Test Split\n",
    "X_train, X_test, y_train, y_test = train_test_split(\n",
    "    X, y, test_size=0.3, random_state=42, stratify=y\n",
    ")\n",
    "\n",
    "pipeline = Pipeline([\n",
    "    ('scaler', StandardScaler()),\n",
    "    ('smote', SMOTE(random_state=42)),\n",
    "    ('clf', LGBMClassifier(random_state=42))\n",
    "])\n",
    "\n",
    "param_grid = {\n",
    "    'clf__n_estimators': [50, 100, 150],\n",
    "    'clf__max_depth': [3, 5, 7, -1],  # -1 means no limit\n",
    "    'clf__learning_rate': [0.01, 0.1, 0.2],\n",
    "    'clf__num_leaves': [31, 50, 100],\n",
    "    'clf__subsample': [0.7, 1],\n",
    "    'clf__colsample_bytree': [0.7, 1]\n",
    "}\n",
    "\n",
    "grid = GridSearchCV(pipeline, param_grid, cv=5, scoring='accuracy', n_jobs=-1, verbose=2)\n",
    "grid.fit(X_train, y_train)\n",
    "\n",
    "print(\"Best parameters:\", grid.best_params_)\n",
    "\n",
    "y_pred = grid.predict(X_test)\n",
    "y_prob = grid.predict_proba(X_test)[:, 1]\n",
    "\n",
    "df_results = X_test.copy()\n",
    "\n",
    "df_results['Prediction'] = np.where(y_pred == 1, 'Diabetic', 'Non-Diabetic')\n",
    "df_results['Actual'] = np.where(y_test == 1, 'Diabetic', 'Non-Diabetic')\n",
    "\n",
    "df_results.to_csv(\"diabetes_predictions_lgbm.csv\", index=False)\n",
    "\n",
    "# Find mismatches\n",
    "mismatches = df_results[df_results['Prediction'] != df_results['Actual']]\n",
    "\n",
    "# Separate into types\n",
    "false_positives = df_results[\n",
    "    (df_results['Prediction'] == 'Diabetic') &\n",
    "    (df_results['Actual'] == 'Non-Diabetic')\n",
    "]\n",
    "false_negatives = df_results[\n",
    "    (df_results['Prediction'] == 'Non-Diabetic') & \n",
    "    (df_results['Actual'] == 'Diabetic')\n",
    "]\n"
   ]
  },
  {
   "cell_type": "code",
   "execution_count": 3,
   "id": "2658218b",
   "metadata": {},
   "outputs": [
    {
     "name": "stdout",
     "output_type": "stream",
     "text": [
      "Accuracy: 0.7878787878787878\n",
      "\n",
      "Confusion Matrix:\n",
      " [[115  35]\n",
      " [ 14  67]]\n",
      "\n",
      "Classification Report:\n",
      "               precision    recall  f1-score   support\n",
      "\n",
      "           0       0.89      0.77      0.82       150\n",
      "           1       0.66      0.83      0.73        81\n",
      "\n",
      "    accuracy                           0.79       231\n",
      "   macro avg       0.77      0.80      0.78       231\n",
      "weighted avg       0.81      0.79      0.79       231\n",
      "\n"
     ]
    }
   ],
   "source": [
    "print(\"Accuracy:\", accuracy_score(y_test, y_pred))\n",
    "print(\"\\nConfusion Matrix:\\n\", confusion_matrix(y_test, y_pred))\n",
    "print(\"\\nClassification Report:\\n\", classification_report(y_test, y_pred))"
   ]
  },
  {
   "cell_type": "code",
   "execution_count": null,
   "id": "73037a40",
   "metadata": {},
   "outputs": [],
   "source": []
  }
 ],
 "metadata": {
  "kernelspec": {
   "display_name": "venv (3.13.3)",
   "language": "python",
   "name": "python3"
  },
  "language_info": {
   "codemirror_mode": {
    "name": "ipython",
    "version": 3
   },
   "file_extension": ".py",
   "mimetype": "text/x-python",
   "name": "python",
   "nbconvert_exporter": "python",
   "pygments_lexer": "ipython3",
   "version": "3.13.3"
  }
 },
 "nbformat": 4,
 "nbformat_minor": 5
}
